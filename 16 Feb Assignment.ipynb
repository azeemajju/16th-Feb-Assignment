{
 "cells": [
  {
   "cell_type": "markdown",
   "id": "80de7995",
   "metadata": {},
   "source": [
    "Q1. What is a database? Differentiate between SQL and NoSQL databases.\n",
    "\n",
    "Ans :A database is a collection of data that is organized in a way that allows for efficient storage, retrieval, and manipulation of the data. Databases are used in a wide range of applications, from small-scale applications like personal finance management to large-scale applications like enterprise resource planning.\n",
    "\n",
    "SQL (Structured Query Language) and NoSQL (Not Only SQL) are two different types of databases that are commonly used in modern applications.\n",
    "\n",
    "SQL databases are relational databases that store data in tables. They use SQL as the primary language for querying and manipulating data. SQL databases are characterized by their use of a schema, which defines the structure of the database and the relationships between different tables. Examples of SQL databases include MySQL, PostgreSQL, Oracle, and Microsoft SQL Server.\n",
    "\n",
    "NoSQL databases, on the other hand, are non-relational databases that do not use SQL as the primary language for querying and manipulating data. NoSQL databases are designed to handle large amounts of unstructured or semi-structured data, and they are often used in applications that require high scalability and performance. NoSQL databases can be classified into four main categories: document-oriented, key-value, column-family, and graph. Examples of NoSQL databases include MongoDB, Cassandra, Redis, and Neo4j.\n",
    "\n",
    "The main differences between SQL and NoSQL databases are:\n",
    "\n",
    "Data Model: SQL databases use a tabular or relational data model, while NoSQL databases use a variety of data models, including document-oriented, key-value, column-family, and graph.\n",
    "\n",
    "Schema: SQL databases use a fixed schema that defines the structure of the database and the relationships between tables, while NoSQL databases are schema-less or have a flexible schema.\n",
    "\n",
    "Query Language: SQL databases use SQL as the primary language for querying and manipulating data, while NoSQL databases use a variety of query languages, depending on the data model.\n",
    "\n",
    "Scalability: SQL databases are typically less scalable than NoSQL databases because they require a fixed schema and are less flexible in terms of data modeling. NoSQL databases, on the other hand, are designed to handle large amounts of unstructured or semi-structured data and are highly scalable.\n",
    "\n",
    "\n",
    "\n"
   ]
  },
  {
   "cell_type": "markdown",
   "id": "c8104678",
   "metadata": {},
   "source": [
    "Q2. What is DDL? Explain why CREATE, DROP, ALTER, and TRUNCATE are used with an example."
   ]
  },
  {
   "cell_type": "markdown",
   "id": "1d9e789a",
   "metadata": {},
   "source": [
    "DDL stands for Data Definition Language, which is a subset of SQL that is used to define and manipulate the structure of database objects, such as tables, indexes, and constraints.\n",
    "\n",
    "The four main DDL statements are:\n",
    "\n",
    "CREATE: The CREATE statement is used to create a new database object, such as a table or an index. For example, the following SQL statement creates a new table called \"users\" with columns for user ID, name, and email:\n",
    "sql\n",
    "Copy code\n",
    "CREATE TABLE users (\n",
    "  id INT PRIMARY KEY,\n",
    "  name VARCHAR(50),\n",
    "  email VARCHAR(50)\n",
    ");\n",
    "DROP: The DROP statement is used to delete a database object, such as a table or an index. For example, the following SQL statement deletes the \"users\" table:\n",
    "sql\n",
    "Copy code\n",
    "DROP TABLE users;\n",
    "ALTER: The ALTER statement is used to modify the structure of an existing database object, such as a table or a column. For example, the following SQL statement adds a new column called \"phone\" to the \"users\" table:\n",
    "sql\n",
    "Copy code\n",
    "ALTER TABLE users ADD COLUMN phone VARCHAR(15);\n",
    "TRUNCATE: The TRUNCATE statement is used to delete all data from a table while leaving the table structure intact. For example, the following SQL statement deletes all data from the \"users\" table:\n",
    "sql\n",
    "Copy code\n",
    "TRUNCATE TABLE users;\n",
    "These DDL statements are used to define and manipulate the structure of database objects. The CREATE statement is used to create new objects, the DROP statement is used to delete existing objects, the ALTER statement is used to modify existing objects, and the TRUNCATE statement is used to delete all data from a table. By using these DDL statements, developers can create and manage the database objects needed for their applications.\n",
    "\n",
    "\n",
    "\n"
   ]
  },
  {
   "cell_type": "markdown",
   "id": "f912f377",
   "metadata": {},
   "source": [
    "Q3. What is DML? Explain INSERT, UPDATE, and DELETE with an example.\n",
    "\n",
    "Ans :DML stands for Data Manipulation Language, which is a subset of SQL that is used to manipulate data within database objects, such as tables.\n",
    "\n",
    "The three main DML statements are:\n",
    "\n",
    "INSERT: The INSERT statement is used to add new rows of data into a table. For example, the following SQL statement inserts a new row into the \"users\" table with values for the \"id\", \"name\", and \"email\" columns:"
   ]
  },
  {
   "cell_type": "code",
   "execution_count": 2,
   "id": "ee68b59b",
   "metadata": {},
   "outputs": [],
   "source": [
    "#INSERT INTO users (id, name, email) VALUES (1, 'John Smith', 'john@example.com');"
   ]
  },
  {
   "cell_type": "markdown",
   "id": "df7eb8f8",
   "metadata": {},
   "source": [
    "UPDATE: The UPDATE statement is used to modify existing data within a table. For example, the following SQL statement updates the \"email\" column for the row with an \"id\" value of 1 in the \"users\" table:"
   ]
  },
  {
   "cell_type": "code",
   "execution_count": 3,
   "id": "02772f60",
   "metadata": {},
   "outputs": [],
   "source": [
    "#UPDATE users SET email = 'john.smith@example.com' WHERE id = 1;"
   ]
  },
  {
   "cell_type": "markdown",
   "id": "c45d317d",
   "metadata": {},
   "source": [
    "DELETE: The DELETE statement is used to remove rows of data from a table. For example, the following SQL statement deletes the row with an \"id\" value of 1 from the \"users\" table:"
   ]
  },
  {
   "cell_type": "code",
   "execution_count": 4,
   "id": "7db16aba",
   "metadata": {},
   "outputs": [],
   "source": [
    "#DELETE FROM users WHERE id = 1;"
   ]
  },
  {
   "cell_type": "markdown",
   "id": "54f00a92",
   "metadata": {},
   "source": [
    "Q4. What is DQL? Explain SELECT with an example.\n",
    "\n",
    "Ans :DQL stands for Data Query Language, which is a subset of SQL that is used to retrieve data from database objects, such as tables. The most commonly used DQL statement is the SELECT statement.\n",
    "\n",
    "The SELECT statement is used to retrieve data from one or more tables in a database. It allows you to specify which columns to retrieve, as well as any filtering, sorting, or grouping criteria.\n",
    "\n",
    "Here is an example of a SELECT statement:"
   ]
  },
  {
   "cell_type": "code",
   "execution_count": 5,
   "id": "febb5cfb",
   "metadata": {},
   "outputs": [],
   "source": [
    "#SELECT id, name, email FROM users WHERE name = 'John Smith' ORDER BY id DESC;"
   ]
  },
  {
   "cell_type": "markdown",
   "id": "f4f2442f",
   "metadata": {},
   "source": [
    "n this example, the SELECT statement is retrieving data from the \"users\" table. It is selecting the \"id\", \"name\", and \"email\" columns from the table. It is also filtering the results to only include rows where the \"name\" column is equal to \"John Smith\". Additionally, it is sorting the results by the \"id\" column in descending order.\n",
    "\n",
    "The result of this SELECT statement would be a table containing the \"id\", \"name\", and \"email\" columns for all rows in the \"users\" table where the \"name\" column is equal to \"John Smith\", sorted by the \"id\" column in descending order."
   ]
  },
  {
   "cell_type": "markdown",
   "id": "97993ca3",
   "metadata": {},
   "source": [
    "Q5. Explain Primary Key and Foreign Key.\n",
    "\n",
    "Ans:Primary Key:\n",
    "A primary key is a column or a set of columns that uniquely identifies each row in a table. It ensures that each row in a table is uniquely identifiable, and therefore helps to maintain data integrity. Primary keys must have unique values and cannot contain null values. They are often used to link tables together through foreign keys.\n",
    "\n",
    "For example, consider a table called \"users\" that has a primary key on the \"id\" column. Each row in the \"users\" table has a unique value for the \"id\" column, and this value is used to uniquely identify each row in the table.\n",
    "\n",
    "Foreign Key:\n",
    "A foreign key is a column or a set of columns in one table that refers to the primary key of another table. It establishes a link between two tables and is used to enforce referential integrity between them. By using foreign keys, you can ensure that data in one table is always consistent with data in another table.\n",
    "\n",
    "For example, consider a table called \"orders\" that has a foreign key on the \"user_id\" column, which refers to the \"id\" column in the \"users\" table. This means that each row in the \"orders\" table is linked to a row in the \"users\" table through the \"user_id\" column. The foreign key ensures that a row cannot be inserted into the \"orders\" table unless the \"user_id\" value already exists in the \"users\" table. This helps to maintain data integrity and prevent inconsistencies between the two tables."
   ]
  },
  {
   "cell_type": "markdown",
   "id": "c30139a5",
   "metadata": {},
   "source": [
    "Q6. Write a python code to connect MySQL to python. Explain the cursor() and execute() method.\n",
    "\n",
    "Ans:To connect to MySQL using Python, you can use the \"mysql-connector-python\" library. Here is an example of Python code to connect to a MySQL database:"
   ]
  },
  {
   "cell_type": "code",
   "execution_count": null,
   "id": "a5de6f48",
   "metadata": {},
   "outputs": [],
   "source": [
    "import mysql.connector\n",
    "\n",
    "# Connect to MySQL database\n",
    "mydb = mysql.connector.connect(\n",
    "  host=\"localhost\",\n",
    "  user=\"username\",\n",
    "  password=\"password\",\n",
    "  database=\"mydatabase\"\n",
    ")\n",
    "\n",
    "# Create a cursor object\n",
    "mycursor = mydb.cursor()\n",
    "\n",
    "# Execute a SQL query\n",
    "mycursor.execute(\"SELECT * FROM customers\")\n",
    "\n",
    "# Fetch all rows from the query result\n",
    "result = mycursor.fetchall()\n",
    "\n",
    "# Print the result\n",
    "for row in result:\n",
    "  print(row)\n"
   ]
  },
  {
   "cell_type": "code",
   "execution_count": null,
   "id": "d33a5572",
   "metadata": {},
   "outputs": [],
   "source": []
  },
  {
   "cell_type": "code",
   "execution_count": null,
   "id": "c502156b",
   "metadata": {},
   "outputs": [],
   "source": []
  },
  {
   "cell_type": "code",
   "execution_count": null,
   "id": "19b795dd",
   "metadata": {},
   "outputs": [],
   "source": []
  },
  {
   "cell_type": "code",
   "execution_count": null,
   "id": "4a638d57",
   "metadata": {},
   "outputs": [],
   "source": []
  },
  {
   "cell_type": "code",
   "execution_count": null,
   "id": "db696ace",
   "metadata": {},
   "outputs": [],
   "source": []
  },
  {
   "cell_type": "code",
   "execution_count": null,
   "id": "ef2e4961",
   "metadata": {},
   "outputs": [],
   "source": []
  },
  {
   "cell_type": "code",
   "execution_count": null,
   "id": "c6069e24",
   "metadata": {},
   "outputs": [],
   "source": []
  }
 ],
 "metadata": {
  "kernelspec": {
   "display_name": "Python 3 (ipykernel)",
   "language": "python",
   "name": "python3"
  },
  "language_info": {
   "codemirror_mode": {
    "name": "ipython",
    "version": 3
   },
   "file_extension": ".py",
   "mimetype": "text/x-python",
   "name": "python",
   "nbconvert_exporter": "python",
   "pygments_lexer": "ipython3",
   "version": "3.9.13"
  }
 },
 "nbformat": 4,
 "nbformat_minor": 5
}
